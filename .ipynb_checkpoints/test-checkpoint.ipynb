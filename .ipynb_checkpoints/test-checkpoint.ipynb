{
 "cells": [
  {
   "cell_type": "markdown",
   "id": "afe4c57e-2873-4583-b8de-82457abdf3f3",
   "metadata": {},
   "source": [
    "# Project Name: AO3-Bookmark chrome extension"
   ]
  },
  {
   "cell_type": "markdown",
   "id": "11159866-6ef9-48ae-95eb-70a0d54efcbb",
   "metadata": {},
   "source": [
    "# Aim: Creating vectors out of the user's bookmarks and generating a vector containing the recommended search params using similarity search"
   ]
  },
  {
   "cell_type": "markdown",
   "id": "deab5a10-7353-4572-988b-a4aa9790f70d",
   "metadata": {},
   "source": [
    "# Extracting our data from the AO3 website"
   ]
  },
  {
   "cell_type": "code",
   "execution_count": 1,
   "id": "885b15d5-1cea-4f6a-a302-30af3f8a7ae3",
   "metadata": {},
   "outputs": [
    {
     "name": "stdout",
     "output_type": "stream",
     "text": [
      "sceneohscene\n",
      "['Suits (US TV)']\n",
      "['Creator Chose Not To Use Archive Warnings', 'Donna Paulsen & Harvey Specter', 'Louis Litt & Mike Ross', 'Louis Litt & Harvey Specter', 'Louis Litt & Donna Paulsen', 'Mike Ross & Rachel Zane', 'Donna Paulsen', 'Harvey Specter', 'Rachel Zane', 'Mike Ross', 'Louis Litt', 'Original Female Character(s)', 'Married Couple', 'Friendship', 'Birthday Presents', 'Best Friends', 'Team as Family', 'Family Fluff', 'One Shot Collection', 'Suits (US TV)', 'Harvey Specter', 'Team as Family', 'Friendship']\n",
      "\n",
      "\n",
      "miamourstarchaser\n",
      "['Harry Potter - J. K. Rowling', 'Fear Street Trilogy (Movies 2021)']\n",
      "['Graphic Depictions Of Violence', 'Major Character Death', 'Regulus Black/James Potter', 'Sirius Black/Remus Lupin', 'Alice Longbottom/Frank Longbottom', 'Barty Crouch Jr./Evan Rosier', 'Draco Malfoy/Harry Potter', 'Sirius Black', 'Regulus Black', 'James Potter', 'Remus Lupin', 'Frank Longbottom', 'Alice Longbottom', 'Barty Crouch Jr.', 'Evan Rosier', 'Draco Malfoy', 'Harry Potter', 'Hermione Granger', 'Ron Weasley', 'Marauders Era (Harry Potter)', 'Movie: Fear Street Part 2: 1978', 'Crossover', 'Alternate Universe', 'Summer Camp', 'Horror', 'Murder', 'Brother Angst', \"i've been watching fear street pt 2 every day this week\", 'Jegulus', 'wolfstar', 'Fralice', 'Rosekiller', 'Drarry', 'Alternate Universe', 'Marauders Era (Harry Potter)', 'Horror']\n",
      "\n",
      "\n",
      "iiSaturnGhxst\n",
      "['Harry Potter - J. K. Rowling']\n",
      "['Major Character Death', 'No Archive Warnings Apply', 'Sirius Black/Remus Lupin', 'Sirius Black & Remus Lupin', 'Harry Potter & Severus Snape', 'Luna Lovegood/Harry Potter', 'Sirius Black & James Potter', 'James Potter', 'Sirius Black', 'Hermoine Granger', 'Remus Lupin', 'Molly Weasley', 'Ron Weasley', 'Arthur Weasley', 'Weasley Family (Harry Potter)', 'Severus Snape', 'Albus Dumbledore', 'Dolores Umbridge', 'Nymphadora Tonks', 'Luna Lovegood', 'Harry Potter', 'Dursley Family (Harry Potter)', 'Minerva McGonagall', 'Abused Harry Potter', 'Depressed Harry Potter', 'Worried James Potter', 'Albus Dumbledore Bashing', 'Molly Weasley Bashing', 'It Gets Worse Before It Gets Better', 'Order of the Phoenix (Harry Potter)', 'Abused Harry Potter', 'Depressed Harry Potter', 'Albus Dumbledore Bashing', 'Order of the Phoenix (Harry Potter)']\n",
      "\n",
      "\n",
      "ShatteredSilverIris\n",
      "['Harry Potter - J. K. Rowling']\n",
      "['Creator Chose Not To Use Archive Warnings', 'Regulus Black/James Potter', 'Sirius Black/Remus Lupin', 'Barty Crouch Jr./Evan Rosier', 'Regulus Black & Remus Lupin', 'Minor or Background Relationship(s)', 'Regulus Black', 'James Potter', 'Sirius Black', 'Remus Lupin', 'Peter Pettigrew', 'Evan Rosier', 'Barty Crouch Jr.', 'Lily Evans Potter', 'Marlene McKinnon', 'Pandora Lovegood', 'Dorcas Meadowes', 'Mary Macdonald (Harry Potter)', 'Severus Snape', 'Enemies to Lovers', 'Blind Character', 'Scars', 'Drinking Games', 'Truth or Dare', 'Spin the Bottle', 'Abusive Walburga Black', 'Abusive Parents', 'Alcohol', 'Cigarettes', 'Sad Regulus Black', 'Good Friend Barty Crouch Jr.', 'Good Friend Evan Rosier', 'Sibling Bonding', 'Regulus Black Needs a Hug', 'Non-binary Sirius Black', 'Sexuality Crisis', 'Gender Identity', 'Asexual Peter Pettigrew', 'Good Friend Remus Lupin', 'Hogwarts Inter-House Unity', 'Friends to Lovers', 'First Kiss', 'Platonic Kissing', 'Remus Lupin is So Done', 'Regulus Black & Remus Lupin Friendship', 'Brotherly Bonding', 'Barty Crouch Jr. is a Little Shit', 'Sirius Black is a Little Shit', 'Protective Sirius Black', 'Oblivious Remus Lupin', 'Oblivious Sirius Black', 'No beta we die like the marauders', 'Alternate Universe - No Voldemort', 'Never Have I Ever', 'Alternate Universe - Everyone Lives/Nobody Dies', 'We do not support jkr', 'Pottercest (Harry Potter)', 'Sirius Black/Remus Lupin', 'Severus Snape']\n",
      "\n",
      "\n",
      "MakerofTales\n",
      "['Naruto (Anime & Manga)', '?']\n",
      "['Graphic Depictions Of Violence', 'Major Character Death', 'Underage', 'Namikaze Minato/Uzumaki Kushina', 'Naruko Uzumaki & Her ANBU', 'Uzumaki Naruko', 'Hatake Kakashi', 'Sarutobi Hiruzen', 'Senju Hashirama', 'Teuchi (Naruto)', 'Jiraiya (Naruto)', 'Shimura Danzou', 'Yamato | Tenzou', 'Nagato | Pain', 'Zetsu (Naruto)', 'Namiashi Raidou', 'Namikaze Minato', 'Uchiha Itachi', 'Shiranui Genma', 'Anbu Characters (Naruto)', 'Original Anbu Character(s) (Naruto)', 'Hyuuga Hinata', 'Aburame Shino', 'Uchiha Sasuke', 'Ami (Naruto)', 'Nara Shikamaru', 'Akimichi Chouji', 'Umino Iruka', 'Oonoki (Naruto)', 'A | Fourth Raikage', 'Killer Bee (Naruto)', 'Terumi Mei', 'Karatachi Yagura', 'Sai (Naruto)', 'Haruno Sakura', 'Tobi (Naruto)', 'Reincarnation', 'Alternate Universe', 'Crossover', 'Cross-Posted on FanFiction.Net', 'Genderbending', 'Training', 'Chakra (Naruto)', 'Female Uzumaki Naruto', 'Academy', 'War', 'Jinchuuriki (Naruto)', 'Insanity', 'Bijuu | Tailed Beasts (Naruto)', 'Alternate Universe - Canon Divergence', 'Minato Namikaze is insane', 'Naruko is Insane', 'Ramen', 'Genius Naruko Uzumaki', 'Tricky Naruko Uzumaki', 'Henge no Jutsu | Transformation Technique', 'Kage Bunshin | Shadow Clones', 'Shinobi', 'Shinobi Politics (Naruto)', 'Infiltration', 'Murder', 'Sadistic Tendecies', 'social abuse / mental abuse chapter 48', 'Self-Insert', \"(It's not but it's close enough so I was told too add it.)\", 'Silly', 'Serious', 'Kuchiyose no Jutsu | Summoning Technique', 'Isekai', 'Kinda Sage Mode', 'Uzumaki Naruto', \"Hatake Kakashi & Hatake Kakashi's Mother\", 'Teuchi (Naruto)']\n",
      "\n",
      "\n"
     ]
    }
   ],
   "source": [
    "import requests\n",
    "from bs4 import BeautifulSoup\n",
    "import json\n",
    "\n",
    "url = \"https://archiveofourown.org/users/rounakag/bookmarks\"\n",
    "response = requests.get(url = url)\n",
    "data = response.content\n",
    "# Function to extract the bookmark data\n",
    "def extract_bookmark_data(html_content):\n",
    "    soup = BeautifulSoup(html_content, 'html.parser')\n",
    "\n",
    "    bookmarks = []\n",
    "\n",
    "    for bookmark in soup.select('li.bookmark.blurb.group'):\n",
    "        # Extract the author's name\n",
    "        author = bookmark.select_one('div.header.module h4 a[rel=\"author\"]').text if bookmark.select_one(\n",
    "            'div.header.module h4 a[rel=\"author\"]') else 'Unknown'\n",
    "\n",
    "       \n",
    "        tags = [tag.text for tag in bookmark.select('.tags.commas li a.tag')]\n",
    "\n",
    "\n",
    "        user_set_tags = [tag.text for tag in bookmark.select('.meta.tags.commas li a.tag')]\n",
    "\n",
    "       \n",
    "        genres = [genre.text for genre in bookmark.select('h5.fandoms.heading a.tag')]\n",
    "\n",
    "        \n",
    "        bookmarks.append({\n",
    "            \"author's name\": author,\n",
    "            'tags': tags,  # original tags + the user-set tags\n",
    "            'genres': genres\n",
    "        })\n",
    "\n",
    "    return bookmarks\n",
    "\n",
    "#print(extract_bookmark_data(data))\n",
    "\n",
    "for i in range(5):\n",
    "    print(extract_bookmark_data(data)[i][\"author's name\"])\n",
    "    print(extract_bookmark_data(data)[i]['genres'])\n",
    "    print(extract_bookmark_data(data)[i]['tags'])\n",
    "    print(\"\\n\")\n",
    "\n",
    "\n",
    "\n"
   ]
  },
  {
   "cell_type": "markdown",
   "id": "4d2870bf-84df-4f28-b373-cf8226d30c51",
   "metadata": {},
   "source": [
    "# Making a dataframe of the extracted data"
   ]
  },
  {
   "cell_type": "code",
   "execution_count": 13,
   "id": "e94dbe9c-e595-4d95-9ffa-5984f0401c73",
   "metadata": {},
   "outputs": [
    {
     "name": "stdout",
     "output_type": "stream",
     "text": [
      "['sceneohscene', 'miamourstarchaser', 'iiSaturnGhxst', 'ShatteredSilverIris', 'MakerofTales'] \n",
      "\n",
      "[['Suits (US TV)'], ['Harry Potter - J. K. Rowling', 'Fear Street Trilogy (Movies 2021)'], ['Harry Potter - J. K. Rowling'], ['Harry Potter - J. K. Rowling'], ['Naruto (Anime & Manga)', '?']] \n",
      "\n",
      "[['Creator Chose Not To Use Archive Warnings', 'Donna Paulsen & Harvey Specter', 'Louis Litt & Mike Ross', 'Louis Litt & Harvey Specter', 'Louis Litt & Donna Paulsen', 'Mike Ross & Rachel Zane', 'Donna Paulsen', 'Harvey Specter', 'Rachel Zane', 'Mike Ross', 'Louis Litt', 'Original Female Character(s)', 'Married Couple', 'Friendship', 'Birthday Presents', 'Best Friends', 'Team as Family', 'Family Fluff', 'One Shot Collection', 'Suits (US TV)', 'Harvey Specter', 'Team as Family', 'Friendship'], ['Graphic Depictions Of Violence', 'Major Character Death', 'Regulus Black/James Potter', 'Sirius Black/Remus Lupin', 'Alice Longbottom/Frank Longbottom', 'Barty Crouch Jr./Evan Rosier', 'Draco Malfoy/Harry Potter', 'Sirius Black', 'Regulus Black', 'James Potter', 'Remus Lupin', 'Frank Longbottom', 'Alice Longbottom', 'Barty Crouch Jr.', 'Evan Rosier', 'Draco Malfoy', 'Harry Potter', 'Hermione Granger', 'Ron Weasley', 'Marauders Era (Harry Potter)', 'Movie: Fear Street Part 2: 1978', 'Crossover', 'Alternate Universe', 'Summer Camp', 'Horror', 'Murder', 'Brother Angst', \"i've been watching fear street pt 2 every day this week\", 'Jegulus', 'wolfstar', 'Fralice', 'Rosekiller', 'Drarry', 'Alternate Universe', 'Marauders Era (Harry Potter)', 'Horror'], ['Major Character Death', 'No Archive Warnings Apply', 'Sirius Black/Remus Lupin', 'Sirius Black & Remus Lupin', 'Harry Potter & Severus Snape', 'Luna Lovegood/Harry Potter', 'Sirius Black & James Potter', 'James Potter', 'Sirius Black', 'Hermoine Granger', 'Remus Lupin', 'Molly Weasley', 'Ron Weasley', 'Arthur Weasley', 'Weasley Family (Harry Potter)', 'Severus Snape', 'Albus Dumbledore', 'Professor McGonagills', 'Dolores Umbridge', 'Nymphadora Tonks', 'Luna Lovegood', 'Harry Potter', 'Dursley Family (Harry Potter)', 'Abused Harry Potter', 'Depressed Harry Potter', 'Worried James Potter', 'Albus Dumbledore Bashing', 'Molly Weasley Bashing', 'It Gets Worse Before It Gets Better', 'Order of the Phoenix (Harry Potter)', 'Abused Harry Potter', 'Depressed Harry Potter', 'Albus Dumbledore Bashing', 'Order of the Phoenix (Harry Potter)'], ['Creator Chose Not To Use Archive Warnings', 'Regulus Black/James Potter', 'Sirius Black/Remus Lupin', 'Barty Crouch Jr./Evan Rosier', 'Regulus Black & Remus Lupin', 'Minor or Background Relationship(s)', 'Regulus Black', 'James Potter', 'Sirius Black', 'Remus Lupin', 'Peter Pettigrew', 'Evan Rosier', 'Barty Crouch Jr.', 'Lily Evans Potter', 'Marlene McKinnon', 'Pandora Lovegood', 'Dorcas Meadowes', 'Mary Macdonald (Harry Potter)', 'Severus Snape', 'Enemies to Lovers', 'Blind Character', 'Scars', 'Drinking Games', 'Truth or Dare', 'Spin the Bottle', 'Abusive Walburga Black', 'Abusive Parents', 'Alcohol', 'Cigarettes', 'Sad Regulus Black', 'Good Friend Barty Crouch Jr.', 'Good Friend Evan Rosier', 'Sibling Bonding', 'Regulus Black Needs a Hug', 'Non-binary Sirius Black', 'Sexuality Crisis', 'Gender Identity', 'Asexual Peter Pettigrew', 'Good Friend Remus Lupin', 'Hogwarts Inter-House Unity', 'Friends to Lovers', 'First Kiss', 'Platonic Kissing', 'Remus Lupin is So Done', 'Regulus Black & Remus Lupin Friendship', 'Brotherly Bonding', 'Barty Crouch Jr. is a Little Shit', 'Sirius Black is a Little Shit', 'Protective Sirius Black', 'Oblivious Remus Lupin', 'Oblivious Sirius Black', 'No beta we die like the marauders', 'Alternate Universe - No Voldemort', 'Never Have I Ever', 'Alternate Universe - Everyone Lives/Nobody Dies', 'We do not support jkr', 'Pottercest (Harry Potter)', 'Sirius Black/Remus Lupin', 'Severus Snape'], ['Graphic Depictions Of Violence', 'Major Character Death', 'Underage', 'Namikaze Minato/Uzumaki Kushina', 'Naruko Uzumaki & Her ANBU', 'Uzumaki Naruko', 'Hatake Kakashi', 'Sarutobi Hiruzen', 'Senju Hashirama', 'Teuchi (Naruto)', 'Jiraiya (Naruto)', 'Shimura Danzou', 'Yamato | Tenzou', 'Nagato | Pain', 'Zetsu (Naruto)', 'Namiashi Raidou', 'Namikaze Minato', 'Uchiha Itachi', 'Shiranui Genma', 'Anbu Characters (Naruto)', 'Original Anbu Character(s) (Naruto)', 'Hyuuga Hinata', 'Aburame Shino', 'Uchiha Sasuke', 'Ami (Naruto)', 'Nara Shikamaru', 'Akimichi Chouji', 'Umino Iruka', 'Oonoki (Naruto)', 'A | Fourth Raikage', 'Killer Bee (Naruto)', 'Terumi Mei', 'Karatachi Yagura', 'Sai (Naruto)', 'Haruno Sakura', 'Tobi (Naruto)', 'Reincarnation', 'Alternate Universe', 'Crossover', 'Cross-Posted on FanFiction.Net', 'Genderbending', 'Training', 'Chakra (Naruto)', 'Female Uzumaki Naruto', 'Academy', 'War', 'Jinchuuriki (Naruto)', 'Insanity', 'Bijuu | Tailed Beasts (Naruto)', 'Alternate Universe - Canon Divergence', 'Minato Namikaze is insane', 'Naruko is Insane', 'Ramen', 'Genius Naruko Uzumaki', 'Tricky Naruko Uzumaki', 'Henge no Jutsu | Transformation Technique', 'Kage Bunshin | Shadow Clones', 'Shinobi', 'Shinobi Politics (Naruto)', 'Infiltration', 'Murder', 'Sadistic Tendecies', 'social abuse / mental abuse chapter 48', 'Self-Insert', \"(It's not but it's close enough so I was told too add it.)\", 'Silly', 'Serious', 'Kuchiyose no Jutsu | Summoning Technique', 'Isekai', 'Kinda Sage Mode', 'Uzumaki Naruto', \"Hatake Kakashi & Hatake Kakashi's Mother\", 'Teuchi (Naruto)']]\n"
     ]
    }
   ],
   "source": [
    "author_list = [extract_bookmark_data(data)[i][\"author's name\"]for i in range(5)]\n",
    "genres_list = [extract_bookmark_data(data)[i][\"genres\"] for i in range(5)]\n",
    "tags_list = [extract_bookmark_data(data)[i][\"tags\"] for i in range(5)]\n",
    "print(author_list, \"\\n\")\n",
    "print(genres_list, \"\\n\")\n",
    "print(tags_list)"
   ]
  },
  {
   "cell_type": "markdown",
   "id": "24bd3eb3-e7f8-4ba7-a759-1fe4e609e352",
   "metadata": {},
   "source": [
    "# Exploring the dataset"
   ]
  },
  {
   "cell_type": "code",
   "execution_count": 17,
   "id": "f2416e5d-85b1-4355-84e8-11f228dbfa3e",
   "metadata": {},
   "outputs": [
    {
     "name": "stdout",
     "output_type": "stream",
     "text": [
      "\n",
      "\n",
      "{'author_name': 'sceneohscene', 'tags_name': ['Creator Chose Not To Use Archive Warnings', 'Donna Paulsen & Harvey Specter', 'Louis Litt & Mike Ross', 'Louis Litt & Harvey Specter', 'Louis Litt & Donna Paulsen', 'Mike Ross & Rachel Zane', 'Donna Paulsen', 'Harvey Specter', 'Rachel Zane', 'Mike Ross', 'Louis Litt', 'Original Female Character(s)', 'Married Couple', 'Friendship', 'Birthday Presents', 'Best Friends', 'Team as Family', 'Family Fluff', 'One Shot Collection', 'Suits (US TV)', 'Harvey Specter', 'Team as Family', 'Friendship'], 'genre_name': ['Suits (US TV)']}\n",
      "\n",
      "\n",
      "{'author_name': 'miamourstarchaser', 'tags_name': ['Graphic Depictions Of Violence', 'Major Character Death', 'Regulus Black/James Potter', 'Sirius Black/Remus Lupin', 'Alice Longbottom/Frank Longbottom', 'Barty Crouch Jr./Evan Rosier', 'Draco Malfoy/Harry Potter', 'Sirius Black', 'Regulus Black', 'James Potter', 'Remus Lupin', 'Frank Longbottom', 'Alice Longbottom', 'Barty Crouch Jr.', 'Evan Rosier', 'Draco Malfoy', 'Harry Potter', 'Hermione Granger', 'Ron Weasley', 'Marauders Era (Harry Potter)', 'Movie: Fear Street Part 2: 1978', 'Crossover', 'Alternate Universe', 'Summer Camp', 'Horror', 'Murder', 'Brother Angst', \"i've been watching fear street pt 2 every day this week\", 'Jegulus', 'wolfstar', 'Fralice', 'Rosekiller', 'Drarry', 'Alternate Universe', 'Marauders Era (Harry Potter)', 'Horror'], 'genre_name': ['Harry Potter - J. K. Rowling', 'Fear Street Trilogy (Movies 2021)']}\n",
      "\n",
      "\n",
      "{'author_name': 'iiSaturnGhxst', 'tags_name': ['Major Character Death', 'No Archive Warnings Apply', 'Sirius Black/Remus Lupin', 'Sirius Black & Remus Lupin', 'Harry Potter & Severus Snape', 'Luna Lovegood/Harry Potter', 'Sirius Black & James Potter', 'James Potter', 'Sirius Black', 'Hermoine Granger', 'Remus Lupin', 'Molly Weasley', 'Ron Weasley', 'Arthur Weasley', 'Weasley Family (Harry Potter)', 'Severus Snape', 'Albus Dumbledore', 'Professor McGonagills', 'Dolores Umbridge', 'Nymphadora Tonks', 'Luna Lovegood', 'Harry Potter', 'Dursley Family (Harry Potter)', 'Abused Harry Potter', 'Depressed Harry Potter', 'Worried James Potter', 'Albus Dumbledore Bashing', 'Molly Weasley Bashing', 'It Gets Worse Before It Gets Better', 'Order of the Phoenix (Harry Potter)', 'Abused Harry Potter', 'Depressed Harry Potter', 'Albus Dumbledore Bashing', 'Order of the Phoenix (Harry Potter)'], 'genre_name': ['Harry Potter - J. K. Rowling']}\n",
      "\n",
      "\n",
      "{'author_name': 'ShatteredSilverIris', 'tags_name': ['Creator Chose Not To Use Archive Warnings', 'Regulus Black/James Potter', 'Sirius Black/Remus Lupin', 'Barty Crouch Jr./Evan Rosier', 'Regulus Black & Remus Lupin', 'Minor or Background Relationship(s)', 'Regulus Black', 'James Potter', 'Sirius Black', 'Remus Lupin', 'Peter Pettigrew', 'Evan Rosier', 'Barty Crouch Jr.', 'Lily Evans Potter', 'Marlene McKinnon', 'Pandora Lovegood', 'Dorcas Meadowes', 'Mary Macdonald (Harry Potter)', 'Severus Snape', 'Enemies to Lovers', 'Blind Character', 'Scars', 'Drinking Games', 'Truth or Dare', 'Spin the Bottle', 'Abusive Walburga Black', 'Abusive Parents', 'Alcohol', 'Cigarettes', 'Sad Regulus Black', 'Good Friend Barty Crouch Jr.', 'Good Friend Evan Rosier', 'Sibling Bonding', 'Regulus Black Needs a Hug', 'Non-binary Sirius Black', 'Sexuality Crisis', 'Gender Identity', 'Asexual Peter Pettigrew', 'Good Friend Remus Lupin', 'Hogwarts Inter-House Unity', 'Friends to Lovers', 'First Kiss', 'Platonic Kissing', 'Remus Lupin is So Done', 'Regulus Black & Remus Lupin Friendship', 'Brotherly Bonding', 'Barty Crouch Jr. is a Little Shit', 'Sirius Black is a Little Shit', 'Protective Sirius Black', 'Oblivious Remus Lupin', 'Oblivious Sirius Black', 'No beta we die like the marauders', 'Alternate Universe - No Voldemort', 'Never Have I Ever', 'Alternate Universe - Everyone Lives/Nobody Dies', 'We do not support jkr', 'Pottercest (Harry Potter)', 'Sirius Black/Remus Lupin', 'Severus Snape'], 'genre_name': ['Harry Potter - J. K. Rowling']}\n",
      "\n",
      "\n",
      "{'author_name': 'MakerofTales', 'tags_name': ['Graphic Depictions Of Violence', 'Major Character Death', 'Underage', 'Namikaze Minato/Uzumaki Kushina', 'Naruko Uzumaki & Her ANBU', 'Uzumaki Naruko', 'Hatake Kakashi', 'Sarutobi Hiruzen', 'Senju Hashirama', 'Teuchi (Naruto)', 'Jiraiya (Naruto)', 'Shimura Danzou', 'Yamato | Tenzou', 'Nagato | Pain', 'Zetsu (Naruto)', 'Namiashi Raidou', 'Namikaze Minato', 'Uchiha Itachi', 'Shiranui Genma', 'Anbu Characters (Naruto)', 'Original Anbu Character(s) (Naruto)', 'Hyuuga Hinata', 'Aburame Shino', 'Uchiha Sasuke', 'Ami (Naruto)', 'Nara Shikamaru', 'Akimichi Chouji', 'Umino Iruka', 'Oonoki (Naruto)', 'A | Fourth Raikage', 'Killer Bee (Naruto)', 'Terumi Mei', 'Karatachi Yagura', 'Sai (Naruto)', 'Haruno Sakura', 'Tobi (Naruto)', 'Reincarnation', 'Alternate Universe', 'Crossover', 'Cross-Posted on FanFiction.Net', 'Genderbending', 'Training', 'Chakra (Naruto)', 'Female Uzumaki Naruto', 'Academy', 'War', 'Jinchuuriki (Naruto)', 'Insanity', 'Bijuu | Tailed Beasts (Naruto)', 'Alternate Universe - Canon Divergence', 'Minato Namikaze is insane', 'Naruko is Insane', 'Ramen', 'Genius Naruko Uzumaki', 'Tricky Naruko Uzumaki', 'Henge no Jutsu | Transformation Technique', 'Kage Bunshin | Shadow Clones', 'Shinobi', 'Shinobi Politics (Naruto)', 'Infiltration', 'Murder', 'Sadistic Tendecies', 'social abuse / mental abuse chapter 48', 'Self-Insert', \"(It's not but it's close enough so I was told too add it.)\", 'Silly', 'Serious', 'Kuchiyose no Jutsu | Summoning Technique', 'Isekai', 'Kinda Sage Mode', 'Uzumaki Naruto', \"Hatake Kakashi & Hatake Kakashi's Mother\", 'Teuchi (Naruto)'], 'genre_name': ['Naruto (Anime & Manga)', '?']}\n"
     ]
    }
   ],
   "source": [
    "for i in range(5):\n",
    "    data = {\"author_name\":author_list[i],\"tags_name\":tags_list[i],\"genre_name\":genres_list[i]}\n",
    "    print(\"\\n\")\n",
    "    print(data)"
   ]
  },
  {
   "cell_type": "code",
   "execution_count": 18,
   "id": "28ceefb6-f04e-402b-8611-9f510894dca4",
   "metadata": {},
   "outputs": [
    {
     "name": "stdout",
     "output_type": "stream",
     "text": [
      "sceneohscene\n"
     ]
    }
   ],
   "source": [
    "\n",
    "sample_bookmark_data = [\n",
    "    {\"author_name\":\"sceneohscene\", \n",
    "     \"tags\":\"['Creator Chose Not To Use Archive Warnings', 'Donna Paulsen & Harvey Specter', 'Louis Litt & Mike Ross', 'Louis Litt & Harvey Specter', 'Louis Litt & Donna Paulsen', 'Mike Ross & Rachel Zane', 'Donna Paulsen', 'Harvey Specter', 'Rachel Zane', 'Mike Ross', 'Louis Litt', 'Original Female Character(s)', 'Married Couple', 'Friendship', 'Birthday Presents', 'Best Friends', 'Team as Family', 'Family Fluff', 'One Shot Collection', 'Suits (US TV)', 'Harvey Specter', 'Team as Family', 'Friendship']\", \n",
    "     \"genres\":\"['Harry Potter - J. K. Rowling', 'Fear Street Trilogy (Movies 2021)']\"\n",
    "    },\n",
    "    {\"author_name\":\"miamourstarchaser\",\n",
    "     \"tags\":\"['Graphic Depictions Of Violence', 'Major Character Death', 'Regulus Black/James Potter', 'Sirius Black/Remus Lupin', 'Alice Longbottom/Frank Longbottom', 'Barty Crouch Jr./Evan Rosier', 'Draco Malfoy/Harry Potter', 'Sirius Black', 'Regulus Black', 'James Potter', 'Remus Lupin', 'Frank Longbottom', 'Alice Longbottom', 'Barty Crouch Jr.', 'Evan Rosier', 'Draco Malfoy', 'Harry Potter', 'Hermione Granger', 'Ron Weasley', 'Marauders Era (Harry Potter)', 'Movie: Fear Street Part 2: 1978', 'Crossover', 'Alternate Universe', 'Summer Camp', 'Horror', 'Murder', 'Brother Angst', \\\"I've been watching fear street pt 2 every day this week\\\", 'Jegulus', 'wolfstar', 'Fralice', 'Rosekiller', 'Drarry', 'Alternate Universe', 'Marauders Era (Harry Potter)', 'Horror']\",\n",
    "     \"genres\":\"['Harry Potter - J. K. Rowling', 'Fear Street Trilogy (Movies 2021)']\"\n",
    "    },\n",
    "    {\"author_name\":\"iiSaturnGhxst\",\n",
    "     \"tags\":\"['Major Character Death', 'No Archive Warnings Apply', 'Sirius Black/Remus Lupin', 'Sirius Black & Remus Lupin', 'Harry Potter & Severus Snape', 'Luna Lovegood/Harry Potter', 'Sirius Black & James Potter', 'James Potter', 'Sirius Black', 'Hermione Granger', 'Remus Lupin', 'Molly Weasley', 'Ron Weasley', 'Arthur Weasley', 'Weasley Family (Harry Potter)', 'Severus Snape', 'Albus Dumbledore', 'Professor McGonagall', 'Dolores Umbridge', 'Nymphadora Tonks', 'Luna Lovegood', 'Harry Potter', 'Dursley Family (Harry Potter)', 'Abused Harry Potter', 'Depressed Harry Potter', 'Worried James Potter', 'Albus Dumbledore Bashing', 'Molly Weasley Bashing', 'It Gets Worse Before It Gets Better', 'Order of the Phoenix (Harry Potter)', 'Abused Harry Potter', 'Depressed Harry Potter', 'Albus Dumbledore Bashing', 'Order of the Phoenix (Harry Potter)']\",\n",
    "     \"genres\":\"['Harry Potter - J. K. Rowling']\"\n",
    "    },\n",
    "    {\"author_name\":\"ShatteredSilverIris\",\n",
    "     \"tags\":\"['Creator Chose Not To Use Archive Warnings', 'Regulus Black/James Potter', 'Sirius Black/Remus Lupin', 'Barty Crouch Jr./Evan Rosier', 'Regulus Black & Remus Lupin', 'Minor or Background Relationship(s)', 'Regulus Black', 'James Potter', 'Sirius Black', 'Remus Lupin', 'Peter Pettigrew', 'Evan Rosier', 'Barty Crouch Jr.', 'Lily Evans Potter', 'Marlene McKinnon', 'Pandora Lovegood', 'Dorcas Meadowes', 'Mary Macdonald (Harry Potter)', 'Severus Snape', 'Enemies to Lovers', 'Blind Character', 'Scars', 'Drinking Games', 'Truth or Dare', 'Spin the Bottle', 'Abusive Walburga Black', 'Abusive Parents', 'Alcohol', 'Cigarettes', 'Sad Regulus Black', 'Good Friend Barty Crouch Jr.', 'Good Friend Evan Rosier', 'Sibling Bonding', 'Regulus Black Needs a Hug', 'Non-binary Sirius Black', 'Sexuality Crisis', 'Gender Identity', 'Asexual Peter Pettigrew', 'Good Friend Remus Lupin', 'Hogwarts Inter-House Unity', 'Friends to Lovers', 'First Kiss', 'Platonic Kissing', 'Remus Lupin is So Done', 'Regulus Black & Remus Lupin Friendship', 'Brotherly Bonding', 'Barty Crouch Jr. is a Little Shit', 'Sirius Black is a Little Shit', 'Protective Sirius Black', 'Oblivious Remus Lupin', 'Oblivious Sirius Black', 'No beta we die like the marauders', 'Alternate Universe - No Voldemort', 'Never Have I Ever', 'Alternate Universe - Everyone Lives/Nobody Dies', 'We do not support jkr', 'Pottercest (Harry Potter)', 'Sirius Black/Remus Lupin', 'Severus Snape']\",\n",
    "     \"genres\":\"['Harry Potter - J. K. Rowling']\"\n",
    "    },\n",
    "    {\"author_name\":\"MakerofTales\",\n",
    "     \"tags\":\"['Graphic Depictions Of Violence', 'Major Character Death', 'Underage', 'Namikaze Minato/Uzumaki Kushina', 'Naruko Uzumaki & Her ANBU', 'Uzumaki Naruko', 'Hatake Kakashi', 'Sarutobi Hiruzen', 'Senju Hashirama', 'Teuchi (Naruto)', 'Jiraiya (Naruto)', 'Shimura Danzou', 'Yamato | Tenzou', 'Nagato | Pain', 'Zetsu (Naruto)', 'Namiashi Raidou', 'Namikaze Minato', 'Uchiha Itachi', 'Shiranui Genma', 'Anbu Characters (Naruto)', 'Original Anbu Character(s) (Naruto)', 'Hyuuga Hinata', 'Aburame Shino', 'Uchiha Sasuke', 'Ami (Naruto)', 'Nara Shikamaru', 'Akimichi Chouji', 'Umino Iruka', 'Oonoki (Naruto)', 'A | Fourth Raikage', 'Killer Bee (Naruto)', 'Terumi Mei', 'Karatachi Yagura', 'Sai (Naruto)', 'Haruno Sakura', 'Tobi (Naruto)', 'Reincarnation', 'Alternate Universe', 'Crossover', 'Cross-Posted on FanFiction.Net', 'Genderbending', 'Training', 'Chakra (Naruto)', 'Female Uzumaki Naruto', 'Academy', 'War', 'Jinchuuriki (Naruto)', 'Insanity', 'Bijuu | Tailed Beasts (Naruto)', 'Alternate Universe - Canon Divergence', 'Minato Namikaze is insane', 'Naruko is Insane', 'Ramen', 'Genius Naruko Uzumaki', 'Tricky Naruko Uzumaki', 'Henge no Jutsu | Transformation Technique', 'Kage Bunshin | Shadow Clones', 'Shinobi', 'Shinobi Politics (Naruto)', 'Infiltration', 'Murder', 'Sadistic Tendencies', 'Social abuse / Mental abuse chapter 48', 'Self-Insert', '(It\\'s not but it\\'s close enough so I was told too add it.)', 'Silly', 'Serious', 'Kuchiyose no Jutsu | Summoning Technique', 'Isekai', 'Kinda Sage Mode', 'Uzumaki Naruto', \\\"Hatake Kakashi & Hatake Kakashi's Mother\\\", 'Teuchi (Naruto)']\",\n",
    "     \"genres\":\"['Naruto (Anime & Manga)', '?']\"\n",
    "    }\n",
    "]\n",
    "\n",
    "print(sample_bookmark_data[0][\"author_name\"])\n",
    "\n"
   ]
  },
  {
   "cell_type": "code",
   "execution_count": 19,
   "id": "817c189d-27b1-4050-992d-fa917bf0c83e",
   "metadata": {},
   "outputs": [],
   "source": [
    "# Importing the required libraries\n",
    "import pandas as pd\n",
    "import numpy as np\n",
    "import matplotlib.pyplot as plt\n",
    "import sklearn as sk"
   ]
  },
  {
   "cell_type": "code",
   "execution_count": 20,
   "id": "0ce59c37-f580-48c1-b5da-426c0bc99d9d",
   "metadata": {},
   "outputs": [
    {
     "data": {
      "text/plain": [
       "'1.4.2'"
      ]
     },
     "execution_count": 20,
     "metadata": {},
     "output_type": "execute_result"
    }
   ],
   "source": [
    "sk.__version__"
   ]
  },
  {
   "cell_type": "code",
   "execution_count": 23,
   "id": "d0b48003-880f-439b-b487-327fb9adca92",
   "metadata": {},
   "outputs": [
    {
     "name": "stdout",
     "output_type": "stream",
     "text": [
      "         author's name                                               Tags  \\\n",
      "0         sceneohscene  ['Creator Chose Not To Use Archive Warnings', ...   \n",
      "1    miamourstarchaser  ['Graphic Depictions Of Violence', 'Major Char...   \n",
      "2        iiSaturnGhxst  ['Major Character Death', 'No Archive Warnings...   \n",
      "3  ShatteredSilverIris  ['Creator Chose Not To Use Archive Warnings', ...   \n",
      "4         MakerofTales  ['Graphic Depictions Of Violence', 'Major Char...   \n",
      "\n",
      "                                               Genre  \n",
      "0  ['Harry Potter - J. K. Rowling', 'Fear Street ...  \n",
      "1  ['Harry Potter - J. K. Rowling', 'Fear Street ...  \n",
      "2                   ['Harry Potter - J. K. Rowling']  \n",
      "3                   ['Harry Potter - J. K. Rowling']  \n",
      "4                    ['Naruto (Anime & Manga)', '?']  \n"
     ]
    }
   ],
   "source": [
    "# Creating a list of dictionaries\n",
    "df_data = []\n",
    "for data in sample_bookmark_data:\n",
    "    df_data.append({\n",
    "        \"author's name\": data[\"author_name\"],\n",
    "        \"Tags\": data[\"tags\"],\n",
    "        \"Genre\":data[\"genres\"]\n",
    "    })\n",
    "\n",
    "# Create the DataFrame\n",
    "df = pd.DataFrame(df_data)\n",
    "\n",
    "# Display the DataFrame\n",
    "print(df)"
   ]
  },
  {
   "cell_type": "code",
   "execution_count": 24,
   "id": "2ab0bbaa-b282-4d6a-83a3-d942fbae84db",
   "metadata": {
    "scrolled": true
   },
   "outputs": [
    {
     "data": {
      "text/html": [
       "<div>\n",
       "<style scoped>\n",
       "    .dataframe tbody tr th:only-of-type {\n",
       "        vertical-align: middle;\n",
       "    }\n",
       "\n",
       "    .dataframe tbody tr th {\n",
       "        vertical-align: top;\n",
       "    }\n",
       "\n",
       "    .dataframe thead th {\n",
       "        text-align: right;\n",
       "    }\n",
       "</style>\n",
       "<table border=\"1\" class=\"dataframe\">\n",
       "  <thead>\n",
       "    <tr style=\"text-align: right;\">\n",
       "      <th></th>\n",
       "      <th>author_name</th>\n",
       "      <th>tags</th>\n",
       "      <th>genres</th>\n",
       "    </tr>\n",
       "  </thead>\n",
       "  <tbody>\n",
       "    <tr>\n",
       "      <th>0</th>\n",
       "      <td>sceneohscene</td>\n",
       "      <td>['Creator Chose Not To Use Archive Warnings', ...</td>\n",
       "      <td>['Harry Potter - J. K. Rowling', 'Fear Street ...</td>\n",
       "    </tr>\n",
       "    <tr>\n",
       "      <th>1</th>\n",
       "      <td>miamourstarchaser</td>\n",
       "      <td>['Graphic Depictions Of Violence', 'Major Char...</td>\n",
       "      <td>['Harry Potter - J. K. Rowling', 'Fear Street ...</td>\n",
       "    </tr>\n",
       "    <tr>\n",
       "      <th>2</th>\n",
       "      <td>iiSaturnGhxst</td>\n",
       "      <td>['Major Character Death', 'No Archive Warnings...</td>\n",
       "      <td>['Harry Potter - J. K. Rowling']</td>\n",
       "    </tr>\n",
       "    <tr>\n",
       "      <th>3</th>\n",
       "      <td>ShatteredSilverIris</td>\n",
       "      <td>['Creator Chose Not To Use Archive Warnings', ...</td>\n",
       "      <td>['Harry Potter - J. K. Rowling']</td>\n",
       "    </tr>\n",
       "    <tr>\n",
       "      <th>4</th>\n",
       "      <td>MakerofTales</td>\n",
       "      <td>['Graphic Depictions Of Violence', 'Major Char...</td>\n",
       "      <td>['Naruto (Anime &amp; Manga)', '?']</td>\n",
       "    </tr>\n",
       "  </tbody>\n",
       "</table>\n",
       "</div>"
      ],
      "text/plain": [
       "           author_name                                               tags  \\\n",
       "0         sceneohscene  ['Creator Chose Not To Use Archive Warnings', ...   \n",
       "1    miamourstarchaser  ['Graphic Depictions Of Violence', 'Major Char...   \n",
       "2        iiSaturnGhxst  ['Major Character Death', 'No Archive Warnings...   \n",
       "3  ShatteredSilverIris  ['Creator Chose Not To Use Archive Warnings', ...   \n",
       "4         MakerofTales  ['Graphic Depictions Of Violence', 'Major Char...   \n",
       "\n",
       "                                              genres  \n",
       "0  ['Harry Potter - J. K. Rowling', 'Fear Street ...  \n",
       "1  ['Harry Potter - J. K. Rowling', 'Fear Street ...  \n",
       "2                   ['Harry Potter - J. K. Rowling']  \n",
       "3                   ['Harry Potter - J. K. Rowling']  \n",
       "4                    ['Naruto (Anime & Manga)', '?']  "
      ]
     },
     "execution_count": 24,
     "metadata": {},
     "output_type": "execute_result"
    }
   ],
   "source": [
    "sample_dataframe = pd.DataFrame(sample_bookmark_data)\n",
    "sample_dataframe"
   ]
  },
  {
   "cell_type": "code",
   "execution_count": 26,
   "id": "8e0b42ca-52ac-414e-ab0a-a2696e5633bb",
   "metadata": {},
   "outputs": [
    {
     "name": "stdout",
     "output_type": "stream",
     "text": [
      "   iisaturnghxst  makeroftales  miamourstarchaser  sceneohscene  \\\n",
      "0            0.0           0.0                0.0           1.0   \n",
      "1            0.0           0.0                1.0           0.0   \n",
      "2            1.0           0.0                0.0           0.0   \n",
      "3            0.0           0.0                0.0           0.0   \n",
      "4            0.0           1.0                0.0           0.0   \n",
      "\n",
      "   shatteredsilveriris  \n",
      "0                  0.0  \n",
      "1                  0.0  \n",
      "2                  0.0  \n",
      "3                  1.0  \n",
      "4                  0.0  \n"
     ]
    }
   ],
   "source": [
    "from sklearn.feature_extraction.text import TfidfVectorizer\n",
    "vectorizer_author = TfidfVectorizer()\n",
    "author_matrix = vectorizer_author.fit_transform(sample_dataframe[\"author_name\"])\n",
    "tfidf_df_1 = pd.DataFrame(author_matrix.toarray(), columns=vectorizer_author.get_feature_names_out())\n",
    "print(tfidf_df_1)"
   ]
  },
  {
   "cell_type": "code",
   "execution_count": 33,
   "id": "d2322698-4984-4f84-957c-75a0d0c5c888",
   "metadata": {},
   "outputs": [
    {
     "name": "stdout",
     "output_type": "stream",
     "text": [
      "dict_keys(['author_name', 'tags', 'genres'])\n",
      "dict_keys(['author_name', 'tags', 'genres'])\n",
      "dict_keys(['author_name', 'tags', 'genres'])\n",
      "dict_keys(['author_name', 'tags', 'genres'])\n",
      "dict_keys(['author_name', 'tags', 'genres'])\n"
     ]
    },
    {
     "ename": "ValueError",
     "evalue": "empty vocabulary; perhaps the documents only contain stop words",
     "output_type": "error",
     "traceback": [
      "\u001b[0;31m---------------------------------------------------------------------------\u001b[0m",
      "\u001b[0;31mValueError\u001b[0m                                Traceback (most recent call last)",
      "Cell \u001b[0;32mIn[33], line 33\u001b[0m\n\u001b[1;32m     31\u001b[0m \u001b[38;5;66;03m# Transform combined strings into vectors\u001b[39;00m\n\u001b[1;32m     32\u001b[0m tfidf_author_matrix \u001b[38;5;241m=\u001b[39m vectorizer_author\u001b[38;5;241m.\u001b[39mfit_transform(df[\u001b[38;5;124m'\u001b[39m\u001b[38;5;124mauthor_combined\u001b[39m\u001b[38;5;124m'\u001b[39m])\n\u001b[0;32m---> 33\u001b[0m tfidf_tags_matrix \u001b[38;5;241m=\u001b[39m vectorizer_tags\u001b[38;5;241m.\u001b[39mfit_transform(df[\u001b[38;5;124m'\u001b[39m\u001b[38;5;124mtags_combined\u001b[39m\u001b[38;5;124m'\u001b[39m])\n\u001b[1;32m     34\u001b[0m tfidf_genres_matrix \u001b[38;5;241m=\u001b[39m vectorizer_genres\u001b[38;5;241m.\u001b[39mfit_transform(df[\u001b[38;5;124m'\u001b[39m\u001b[38;5;124mgenres_combined\u001b[39m\u001b[38;5;124m'\u001b[39m])\n\u001b[1;32m     36\u001b[0m \u001b[38;5;66;03m# Convert matrices to arrays\u001b[39;00m\n",
      "File \u001b[0;32m~/Documents/GDSC-AO3/env/lib/python3.12/site-packages/sklearn/feature_extraction/text.py:2138\u001b[0m, in \u001b[0;36mTfidfVectorizer.fit_transform\u001b[0;34m(self, raw_documents, y)\u001b[0m\n\u001b[1;32m   2131\u001b[0m \u001b[38;5;28mself\u001b[39m\u001b[38;5;241m.\u001b[39m_check_params()\n\u001b[1;32m   2132\u001b[0m \u001b[38;5;28mself\u001b[39m\u001b[38;5;241m.\u001b[39m_tfidf \u001b[38;5;241m=\u001b[39m TfidfTransformer(\n\u001b[1;32m   2133\u001b[0m     norm\u001b[38;5;241m=\u001b[39m\u001b[38;5;28mself\u001b[39m\u001b[38;5;241m.\u001b[39mnorm,\n\u001b[1;32m   2134\u001b[0m     use_idf\u001b[38;5;241m=\u001b[39m\u001b[38;5;28mself\u001b[39m\u001b[38;5;241m.\u001b[39muse_idf,\n\u001b[1;32m   2135\u001b[0m     smooth_idf\u001b[38;5;241m=\u001b[39m\u001b[38;5;28mself\u001b[39m\u001b[38;5;241m.\u001b[39msmooth_idf,\n\u001b[1;32m   2136\u001b[0m     sublinear_tf\u001b[38;5;241m=\u001b[39m\u001b[38;5;28mself\u001b[39m\u001b[38;5;241m.\u001b[39msublinear_tf,\n\u001b[1;32m   2137\u001b[0m )\n\u001b[0;32m-> 2138\u001b[0m X \u001b[38;5;241m=\u001b[39m \u001b[38;5;28msuper\u001b[39m()\u001b[38;5;241m.\u001b[39mfit_transform(raw_documents)\n\u001b[1;32m   2139\u001b[0m \u001b[38;5;28mself\u001b[39m\u001b[38;5;241m.\u001b[39m_tfidf\u001b[38;5;241m.\u001b[39mfit(X)\n\u001b[1;32m   2140\u001b[0m \u001b[38;5;66;03m# X is already a transformed view of raw_documents so\u001b[39;00m\n\u001b[1;32m   2141\u001b[0m \u001b[38;5;66;03m# we set copy to False\u001b[39;00m\n",
      "File \u001b[0;32m~/Documents/GDSC-AO3/env/lib/python3.12/site-packages/sklearn/base.py:1474\u001b[0m, in \u001b[0;36m_fit_context.<locals>.decorator.<locals>.wrapper\u001b[0;34m(estimator, *args, **kwargs)\u001b[0m\n\u001b[1;32m   1467\u001b[0m     estimator\u001b[38;5;241m.\u001b[39m_validate_params()\n\u001b[1;32m   1469\u001b[0m \u001b[38;5;28;01mwith\u001b[39;00m config_context(\n\u001b[1;32m   1470\u001b[0m     skip_parameter_validation\u001b[38;5;241m=\u001b[39m(\n\u001b[1;32m   1471\u001b[0m         prefer_skip_nested_validation \u001b[38;5;129;01mor\u001b[39;00m global_skip_validation\n\u001b[1;32m   1472\u001b[0m     )\n\u001b[1;32m   1473\u001b[0m ):\n\u001b[0;32m-> 1474\u001b[0m     \u001b[38;5;28;01mreturn\u001b[39;00m fit_method(estimator, \u001b[38;5;241m*\u001b[39margs, \u001b[38;5;241m*\u001b[39m\u001b[38;5;241m*\u001b[39mkwargs)\n",
      "File \u001b[0;32m~/Documents/GDSC-AO3/env/lib/python3.12/site-packages/sklearn/feature_extraction/text.py:1389\u001b[0m, in \u001b[0;36mCountVectorizer.fit_transform\u001b[0;34m(self, raw_documents, y)\u001b[0m\n\u001b[1;32m   1381\u001b[0m             warnings\u001b[38;5;241m.\u001b[39mwarn(\n\u001b[1;32m   1382\u001b[0m                 \u001b[38;5;124m\"\u001b[39m\u001b[38;5;124mUpper case characters found in\u001b[39m\u001b[38;5;124m\"\u001b[39m\n\u001b[1;32m   1383\u001b[0m                 \u001b[38;5;124m\"\u001b[39m\u001b[38;5;124m vocabulary while \u001b[39m\u001b[38;5;124m'\u001b[39m\u001b[38;5;124mlowercase\u001b[39m\u001b[38;5;124m'\u001b[39m\u001b[38;5;124m\"\u001b[39m\n\u001b[1;32m   1384\u001b[0m                 \u001b[38;5;124m\"\u001b[39m\u001b[38;5;124m is True. These entries will not\u001b[39m\u001b[38;5;124m\"\u001b[39m\n\u001b[1;32m   1385\u001b[0m                 \u001b[38;5;124m\"\u001b[39m\u001b[38;5;124m be matched with any documents\u001b[39m\u001b[38;5;124m\"\u001b[39m\n\u001b[1;32m   1386\u001b[0m             )\n\u001b[1;32m   1387\u001b[0m             \u001b[38;5;28;01mbreak\u001b[39;00m\n\u001b[0;32m-> 1389\u001b[0m vocabulary, X \u001b[38;5;241m=\u001b[39m \u001b[38;5;28mself\u001b[39m\u001b[38;5;241m.\u001b[39m_count_vocab(raw_documents, \u001b[38;5;28mself\u001b[39m\u001b[38;5;241m.\u001b[39mfixed_vocabulary_)\n\u001b[1;32m   1391\u001b[0m \u001b[38;5;28;01mif\u001b[39;00m \u001b[38;5;28mself\u001b[39m\u001b[38;5;241m.\u001b[39mbinary:\n\u001b[1;32m   1392\u001b[0m     X\u001b[38;5;241m.\u001b[39mdata\u001b[38;5;241m.\u001b[39mfill(\u001b[38;5;241m1\u001b[39m)\n",
      "File \u001b[0;32m~/Documents/GDSC-AO3/env/lib/python3.12/site-packages/sklearn/feature_extraction/text.py:1295\u001b[0m, in \u001b[0;36mCountVectorizer._count_vocab\u001b[0;34m(self, raw_documents, fixed_vocab)\u001b[0m\n\u001b[1;32m   1293\u001b[0m     vocabulary \u001b[38;5;241m=\u001b[39m \u001b[38;5;28mdict\u001b[39m(vocabulary)\n\u001b[1;32m   1294\u001b[0m     \u001b[38;5;28;01mif\u001b[39;00m \u001b[38;5;129;01mnot\u001b[39;00m vocabulary:\n\u001b[0;32m-> 1295\u001b[0m         \u001b[38;5;28;01mraise\u001b[39;00m \u001b[38;5;167;01mValueError\u001b[39;00m(\n\u001b[1;32m   1296\u001b[0m             \u001b[38;5;124m\"\u001b[39m\u001b[38;5;124mempty vocabulary; perhaps the documents only contain stop words\u001b[39m\u001b[38;5;124m\"\u001b[39m\n\u001b[1;32m   1297\u001b[0m         )\n\u001b[1;32m   1299\u001b[0m \u001b[38;5;28;01mif\u001b[39;00m indptr[\u001b[38;5;241m-\u001b[39m\u001b[38;5;241m1\u001b[39m] \u001b[38;5;241m>\u001b[39m np\u001b[38;5;241m.\u001b[39miinfo(np\u001b[38;5;241m.\u001b[39mint32)\u001b[38;5;241m.\u001b[39mmax:  \u001b[38;5;66;03m# = 2**31 - 1\u001b[39;00m\n\u001b[1;32m   1300\u001b[0m     \u001b[38;5;28;01mif\u001b[39;00m _IS_32BIT:\n",
      "\u001b[0;31mValueError\u001b[0m: empty vocabulary; perhaps the documents only contain stop words"
     ]
    }
   ],
   "source": [
    "import pandas as pd\n",
    "from sklearn.feature_extraction.text import TfidfVectorizer\n",
    "import numpy as np\n",
    "\n",
    "\n",
    "# Sample bookmark data\n",
    "df_data = []\n",
    "for data in sample_bookmark_data:\n",
    "    df_data.append({\n",
    "        \"author's name\": data[\"author_name\"],\n",
    "        \"Tags\": data[\"tags\"],\n",
    "        \"Genre\":data[\"genres\"]\n",
    "    })\n",
    "\n",
    "# Create the DataFrame\n",
    "df = pd.DataFrame(df_data)\n",
    "\n",
    "# Combining author's name, tags, and genres into separate strings for each bookmark\n",
    "df['author_combined'] = df['author_name']\n",
    "df['tags_combined'] = df['tags'].apply(lambda tags: ' '.join(tags))\n",
    "df['genres_combined'] = df['genres'].apply(lambda genres: ' '.join(genres))\n",
    "\n",
    "# Initializing TfidfVectorizer for each component\n",
    "vectorizer_author = TfidfVectorizer()\n",
    "vectorizer_tags = TfidfVectorizer()\n",
    "vectorizer_genres = TfidfVectorizer()\n",
    "\n",
    "# Transforming the combined strings into vectors\n",
    "tfidf_author_matrix = vectorizer_author.fit_transform(df['author_combined'])\n",
    "tfidf_tags_matrix = vectorizer_tags.fit_transform(df['tags_combined'])\n",
    "tfidf_genres_matrix = vectorizer_genres.fit_transform(df['genres_combined'])\n",
    "\n",
    "# Converting the matrices to arrays\n",
    "tfidf_author_array = tfidf_author_matrix.toarray()\n",
    "tfidf_tags_array = tfidf_tags_matrix.toarray()\n",
    "tfidf_genres_array = tfidf_genres_matrix.toarray()\n",
    "\n",
    "# Concatenate the vectors for each bookmark\n",
    "combined_vectors = np.hstack([tfidf_author_array, tfidf_tags_array, tfidf_genres_array]) "
   ]
  },
  {
   "cell_type": "code",
   "execution_count": 1,
   "id": "5eea8d0d-af24-48c4-8504-96139374ac70",
   "metadata": {},
   "outputs": [
    {
     "ename": "ModuleNotFoundError",
     "evalue": "No module named 'faiss'",
     "output_type": "error",
     "traceback": [
      "\u001b[0;31m---------------------------------------------------------------------------\u001b[0m",
      "\u001b[0;31mModuleNotFoundError\u001b[0m                       Traceback (most recent call last)",
      "Cell \u001b[0;32mIn[1], line 4\u001b[0m\n\u001b[1;32m      2\u001b[0m \u001b[38;5;28;01mfrom\u001b[39;00m \u001b[38;5;21;01msklearn\u001b[39;00m\u001b[38;5;21;01m.\u001b[39;00m\u001b[38;5;21;01mfeature_extraction\u001b[39;00m\u001b[38;5;21;01m.\u001b[39;00m\u001b[38;5;21;01mtext\u001b[39;00m \u001b[38;5;28;01mimport\u001b[39;00m TfidfVectorizer\n\u001b[1;32m      3\u001b[0m \u001b[38;5;28;01mimport\u001b[39;00m \u001b[38;5;21;01mnumpy\u001b[39;00m \u001b[38;5;28;01mas\u001b[39;00m \u001b[38;5;21;01mnp\u001b[39;00m\n\u001b[0;32m----> 4\u001b[0m \u001b[38;5;28;01mimport\u001b[39;00m \u001b[38;5;21;01mfaiss\u001b[39;00m\n\u001b[1;32m      6\u001b[0m \u001b[38;5;66;03m# Sample bookmark data\u001b[39;00m\n\u001b[1;32m      7\u001b[0m sample_bookmark_data \u001b[38;5;241m=\u001b[39m [\n\u001b[1;32m      8\u001b[0m     {\u001b[38;5;124m\"\u001b[39m\u001b[38;5;124mauthor_name\u001b[39m\u001b[38;5;124m\"\u001b[39m: \u001b[38;5;124m\"\u001b[39m\u001b[38;5;124mJohn\u001b[39m\u001b[38;5;124m\"\u001b[39m, \u001b[38;5;124m\"\u001b[39m\u001b[38;5;124mtags\u001b[39m\u001b[38;5;124m\"\u001b[39m: [\u001b[38;5;124m\"\u001b[39m\u001b[38;5;124mt1\u001b[39m\u001b[38;5;124m\"\u001b[39m, \u001b[38;5;124m\"\u001b[39m\u001b[38;5;124mt2\u001b[39m\u001b[38;5;124m\"\u001b[39m, \u001b[38;5;124m\"\u001b[39m\u001b[38;5;124mt3\u001b[39m\u001b[38;5;124m\"\u001b[39m, \u001b[38;5;124m\"\u001b[39m\u001b[38;5;124mt4\u001b[39m\u001b[38;5;124m\"\u001b[39m], \u001b[38;5;124m\"\u001b[39m\u001b[38;5;124mgenres\u001b[39m\u001b[38;5;124m\"\u001b[39m: [\u001b[38;5;124m\"\u001b[39m\u001b[38;5;124mg1\u001b[39m\u001b[38;5;124m\"\u001b[39m, \u001b[38;5;124m\"\u001b[39m\u001b[38;5;124mg2\u001b[39m\u001b[38;5;124m\"\u001b[39m, \u001b[38;5;124m\"\u001b[39m\u001b[38;5;124mg3\u001b[39m\u001b[38;5;124m\"\u001b[39m]},\n\u001b[1;32m      9\u001b[0m     {\u001b[38;5;124m\"\u001b[39m\u001b[38;5;124mauthor_name\u001b[39m\u001b[38;5;124m\"\u001b[39m: \u001b[38;5;124m\"\u001b[39m\u001b[38;5;124mmike\u001b[39m\u001b[38;5;124m\"\u001b[39m, \u001b[38;5;124m\"\u001b[39m\u001b[38;5;124mtags\u001b[39m\u001b[38;5;124m\"\u001b[39m: [\u001b[38;5;124m\"\u001b[39m\u001b[38;5;124mt1\u001b[39m\u001b[38;5;124m\"\u001b[39m, \u001b[38;5;124m\"\u001b[39m\u001b[38;5;124mt2\u001b[39m\u001b[38;5;124m\"\u001b[39m, \u001b[38;5;124m\"\u001b[39m\u001b[38;5;124mt5\u001b[39m\u001b[38;5;124m\"\u001b[39m, \u001b[38;5;124m\"\u001b[39m\u001b[38;5;124mt6\u001b[39m\u001b[38;5;124m\"\u001b[39m], \u001b[38;5;124m\"\u001b[39m\u001b[38;5;124mgenres\u001b[39m\u001b[38;5;124m\"\u001b[39m: [\u001b[38;5;124m\"\u001b[39m\u001b[38;5;124mg1\u001b[39m\u001b[38;5;124m\"\u001b[39m, \u001b[38;5;124m\"\u001b[39m\u001b[38;5;124mg2\u001b[39m\u001b[38;5;124m\"\u001b[39m, \u001b[38;5;124m\"\u001b[39m\u001b[38;5;124mg4\u001b[39m\u001b[38;5;124m\"\u001b[39m]},\n\u001b[0;32m   (...)\u001b[0m\n\u001b[1;32m     13\u001b[0m     {\u001b[38;5;124m\"\u001b[39m\u001b[38;5;124mauthor_name\u001b[39m\u001b[38;5;124m\"\u001b[39m: \u001b[38;5;124m\"\u001b[39m\u001b[38;5;124mmike\u001b[39m\u001b[38;5;124m\"\u001b[39m, \u001b[38;5;124m\"\u001b[39m\u001b[38;5;124mtags\u001b[39m\u001b[38;5;124m\"\u001b[39m: [\u001b[38;5;124m\"\u001b[39m\u001b[38;5;124mt2\u001b[39m\u001b[38;5;124m\"\u001b[39m, \u001b[38;5;124m\"\u001b[39m\u001b[38;5;124mt3\u001b[39m\u001b[38;5;124m\"\u001b[39m, \u001b[38;5;124m\"\u001b[39m\u001b[38;5;124mt6\u001b[39m\u001b[38;5;124m\"\u001b[39m, \u001b[38;5;124m\"\u001b[39m\u001b[38;5;124mt5\u001b[39m\u001b[38;5;124m\"\u001b[39m], \u001b[38;5;124m\"\u001b[39m\u001b[38;5;124mgenres\u001b[39m\u001b[38;5;124m\"\u001b[39m: [\u001b[38;5;124m\"\u001b[39m\u001b[38;5;124mg1\u001b[39m\u001b[38;5;124m\"\u001b[39m, \u001b[38;5;124m\"\u001b[39m\u001b[38;5;124mg10\u001b[39m\u001b[38;5;124m\"\u001b[39m, \u001b[38;5;124m\"\u001b[39m\u001b[38;5;124mg9\u001b[39m\u001b[38;5;124m\"\u001b[39m]}\n\u001b[1;32m     14\u001b[0m ]\n",
      "\u001b[0;31mModuleNotFoundError\u001b[0m: No module named 'faiss'"
     ]
    }
   ],
   "source": [
    "\n",
    "import pandas as pd\n",
    "from sklearn.feature_extraction.text import TfidfVectorizer\n",
    "import numpy as np\n",
    "import faiss\n",
    "\n",
    "# Sample bookmark data\n",
    "sample_bookmark_data = [\n",
    "    {\"author_name\": \"John\", \"tags\": [\"t1\", \"t2\", \"t3\", \"t4\"], \"genres\": [\"g1\", \"g2\", \"g3\"]},\n",
    "    {\"author_name\": \"mike\", \"tags\": [\"t1\", \"t2\", \"t5\", \"t6\"], \"genres\": [\"g1\", \"g2\", \"g4\"]},\n",
    "    {\"author_name\": \"harvey\", \"tags\": [\"t1\", \"t2\", \"t10\", \"t9\"], \"genres\": [\"g2\", \"g5\", \"g3\"]},\n",
    "    {\"author_name\": \"John\", \"tags\": [\"t1\", \"t3\", \"t12\", \"t9\"], \"genres\": [\"g2\", \"g3\", \"g7\"]},\n",
    "    {\"author_name\": \"John\", \"tags\": [\"t12\", \"t34\", \"t21\", \"t4\"], \"genres\": [\"g1\", \"g2\", \"g8\"]},\n",
    "    {\"author_name\": \"mike\", \"tags\": [\"t2\", \"t3\", \"t6\", \"t5\"], \"genres\": [\"g1\", \"g10\", \"g9\"]}\n",
    "]\n",
    "\n",
    "df = pd.DataFrame(sample_bookmark_data)\n",
    "\n",
    "# Combining author's name, tags, and genres into separate strings for each bookmark\n",
    "df['author_combined'] = df['author_name']\n",
    "df['tags_combined'] = df['tags'].apply(lambda tags: ' '.join(tags))\n",
    "df['genres_combined'] = df['genres'].apply(lambda genres: ' '.join(genres))\n",
    "\n",
    "# Initializing TfidfVectorizer for each component\n",
    "vectorizer_author = TfidfVectorizer()\n",
    "vectorizer_tags = TfidfVectorizer()\n",
    "vectorizer_genres = TfidfVectorizer()\n",
    "\n",
    "# Transforming the combined strings into vectors\n",
    "tfidf_author_matrix = vectorizer_author.fit_transform(df['author_combined'])\n",
    "tfidf_tags_matrix = vectorizer_tags.fit_transform(df['tags_combined'])\n",
    "tfidf_genres_matrix = vectorizer_genres.fit_transform(df['genres_combined'])\n",
    "\n",
    "# Converting the matrices to arrays\n",
    "tfidf_author_array = tfidf_author_matrix.toarray()\n",
    "tfidf_tags_array = tfidf_tags_matrix.toarray()\n",
    "tfidf_genres_array = tfidf_genres_matrix.toarray()\n",
    "\n",
    "# Concatenate the vectors for each bookmark\n",
    "combined_vectors = np.hstack([tfidf_author_array, tfidf_tags_array, tfidf_genres_array])\n",
    "\"\"\"\n",
    "# Dimension of the combined vector\n",
    "d = combined_vectors.shape[1]\n",
    "\n",
    "# Create a FAISS index\n",
    "index = faiss.IndexFlatL2(d)\n",
    "\n",
    "# Add the combined vectors to the index\n",
    "index.add(combined_vectors)\n",
    "\n",
    "# Example query data\n",
    "query_data = {\n",
    "    \"author_name\": \"John\",\n",
    "    \"tags\": [\"t1\", \"t2\", \"t3\", \"t4\"],\n",
    "    \"genres\": [\"g1\", \"g2\", \"g3\"]\n",
    "}\n",
    "\n",
    "# Combine author's name, tags, and genres into separate strings\n",
    "query_author_combined = query_data[\"author_name\"]\n",
    "query_tags_combined = ' '.join(query_data[\"tags\"])\n",
    "query_genres_combined = ' '.join(query_data[\"genres\"])\n",
    "\n",
    "# Transform the combined strings into vectors\n",
    "query_author_vector = vectorizer_author.transform([query_author_combined]).toarray()\n",
    "query_tags_vector = vectorizer_tags.transform([query_tags_combined]).toarray()\n",
    "query_genres_vector = vectorizer_genres.transform([query_genres_combined]).toarray()\n",
    "\n",
    "# Concatenate the vectors to form a single query vector\n",
    "query_vector = np.hstack([query_author_vector, query_tags_vector, query_genres_vector])\n",
    "\n",
    "# Perform the search\n",
    "k = 5  # Number of nearest neighbors to retrieve\n",
    "D, I = index.search(query_vector, k)\n",
    "\n",
    "# Display the results\n",
    "print(\"Distances:\", D)\n",
    "print(\"Indices:\", I)\n",
    "\n",
    "# Retrieve the recommended data\n",
    "recommended_data = df.iloc[I[0]].reset_index(drop=True)\n",
    "print(recommended_data)\n",
    "\"\"\""
   ]
  },
  {
   "cell_type": "markdown",
   "id": "80f4ece9-4a87-4cb6-99bc-b7c6f83b235c",
   "metadata": {},
   "source": [
    "# Another approach to solve this problem without using ML\n"
   ]
  },
  {
   "cell_type": "code",
   "execution_count": 2,
   "id": "5ed2a434-70b0-47a5-8a0f-79d768e2eca2",
   "metadata": {},
   "outputs": [
    {
     "name": "stdout",
     "output_type": "stream",
     "text": [
      "Top Authors: ['john', 'mike', 'harvey']\n",
      "Top Tags: ['t1', 't2', 't3']\n",
      "Top Genres: ['g2', 'g1', 'g3']\n"
     ]
    }
   ],
   "source": [
    "import pandas as pd\n",
    "from collections import Counter\n",
    "\n",
    "# Sample bookmark data\n",
    "sample_bookmark_data = [\n",
    "    {\"author_name\": \"john\", \"tags\": [\"t1\", \"t2\", \"t3\", \"t4\"], \"genres\": [\"g1\", \"g2\", \"g3\"]},\n",
    "    {\"author_name\": \"mike\", \"tags\": [\"t1\", \"t2\", \"t5\", \"t6\"], \"genres\": [\"g1\", \"g2\", \"g4\"]},\n",
    "    {\"author_name\": \"harvey\", \"tags\": [\"t1\", \"t2\", \"t10\", \"t9\"], \"genres\": [\"g2\", \"g5\", \"g3\"]},\n",
    "    {\"author_name\": \"john\", \"tags\": [\"t1\", \"t3\", \"t12\", \"t9\"], \"genres\": [\"g2\", \"g3\", \"g7\"]},\n",
    "    {\"author_name\": \"john\", \"tags\": [\"t12\", \"t34\", \"t21\", \"t4\"], \"genres\": [\"g1\", \"g2\", \"g8\"]},\n",
    "    {\"author_name\": \"mike\", \"tags\": [\"t2\", \"t3\", \"t6\", \"t5\"], \"genres\": [\"g1\", \"g10\", \"g9\"]}\n",
    "]\n",
    "\n",
    "\n",
    "df = pd.DataFrame(sample_bookmark_data)\n",
    "\n",
    "# Extract authors, tags, and genres into separate lists\n",
    "authors = df['author_name'].tolist()\n",
    "tags = [tag for sublist in df['tags'].tolist() for tag in sublist]\n",
    "genres = [genre for sublist in df['genres'].tolist() for genre in sublist]\n",
    "\n",
    "# Calculate the frequency of each author, tag, and genre\n",
    "author_freq = Counter(authors)\n",
    "tags_freq = Counter(tags)\n",
    "genres_freq = Counter(genres)\n",
    "\n",
    "# Identify the most frequent authors, tags, and genres\n",
    "most_common_authors = author_freq.most_common()\n",
    "most_common_tags = tags_freq.most_common()\n",
    "most_common_genres = genres_freq.most_common()\n",
    "\n",
    "# Function to get top n items from a list of tuples\n",
    "def get_top_n_items(item_list, n=5):\n",
    "    return [item for item, count in item_list[:n]]\n",
    "\n",
    "# Get top 3 most common authors, tags, and genres\n",
    "top_authors = get_top_n_items(most_common_authors, n=3)\n",
    "top_tags = get_top_n_items(most_common_tags, n=3)\n",
    "top_genres = get_top_n_items(most_common_genres, n=3)\n",
    "\n",
    "print(\"Top Authors:\", top_authors)\n",
    "print(\"Top Tags:\", top_tags)\n",
    "print(\"Top Genres:\", top_genres)\n"
   ]
  },
  {
   "cell_type": "code",
   "execution_count": null,
   "id": "53c416ce-65f1-4c52-8e4a-4522ad119113",
   "metadata": {},
   "outputs": [],
   "source": []
  }
 ],
 "metadata": {
  "kernelspec": {
   "display_name": "Python 3 (ipykernel)",
   "language": "python",
   "name": "python3"
  },
  "language_info": {
   "codemirror_mode": {
    "name": "ipython",
    "version": 3
   },
   "file_extension": ".py",
   "mimetype": "text/x-python",
   "name": "python",
   "nbconvert_exporter": "python",
   "pygments_lexer": "ipython3",
   "version": "3.12.4"
  }
 },
 "nbformat": 4,
 "nbformat_minor": 5
}
